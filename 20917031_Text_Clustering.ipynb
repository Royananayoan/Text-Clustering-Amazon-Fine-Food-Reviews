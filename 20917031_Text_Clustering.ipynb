{
  "nbformat": 4,
  "nbformat_minor": 0,
  "metadata": {
    "colab": {
      "name": "Text Clustering.ipynb",
      "provenance": [],
      "collapsed_sections": []
    },
    "kernelspec": {
      "name": "python3",
      "display_name": "Python 3"
    },
    "language_info": {
      "name": "python"
    }
  },
  "cells": [
    {
      "cell_type": "code",
      "metadata": {
        "colab": {
          "base_uri": "https://localhost:8080/"
        },
        "id": "OPPqgLj2uOd_",
        "outputId": "399e6625-bb26-4e8e-a0f4-bf6d2556e204"
      },
      "source": [
        "import os\n",
        "os.environ['KAGGLE_USERNAME'] = \"xxx\" \n",
        "os.environ['KAGGLE_KEY'] = \"xxx\"\n",
        "!kaggle datasets download -d snap/amazon-fine-food-reviews"
      ],
      "execution_count": null,
      "outputs": [
        {
          "output_type": "stream",
          "text": [
            "Downloading amazon-fine-food-reviews.zip to /content\n",
            " 97% 235M/242M [00:10<00:00, 20.7MB/s]\n",
            "100% 242M/242M [00:10<00:00, 25.2MB/s]\n"
          ],
          "name": "stdout"
        }
      ]
    },
    {
      "cell_type": "code",
      "metadata": {
        "id": "G5KJretHwEwu"
      },
      "source": [
        "from zipfile import ZipFile\n",
        "import string\n",
        "zip = ZipFile('/content/drive/MyDrive/kaggle/amazon-fine-food-reviews.zip')\n",
        "zip.extractall('/content/drive/MyDrive/kaggle/')"
      ],
      "execution_count": null,
      "outputs": []
    },
    {
      "cell_type": "code",
      "metadata": {
        "colab": {
          "base_uri": "https://localhost:8080/",
          "height": 379
        },
        "id": "XhffL6hnuVq4",
        "outputId": "073268e9-10bf-42ac-c5e1-47f2fd9b74b1"
      },
      "source": [
        "import pandas as pd\n",
        "\n",
        "df = pd.read_csv('/content/drive/MyDrive/kaggle/Reviews.csv')\n",
        "df.head()"
      ],
      "execution_count": 1,
      "outputs": [
        {
          "output_type": "execute_result",
          "data": {
            "text/html": [
              "<div>\n",
              "<style scoped>\n",
              "    .dataframe tbody tr th:only-of-type {\n",
              "        vertical-align: middle;\n",
              "    }\n",
              "\n",
              "    .dataframe tbody tr th {\n",
              "        vertical-align: top;\n",
              "    }\n",
              "\n",
              "    .dataframe thead th {\n",
              "        text-align: right;\n",
              "    }\n",
              "</style>\n",
              "<table border=\"1\" class=\"dataframe\">\n",
              "  <thead>\n",
              "    <tr style=\"text-align: right;\">\n",
              "      <th></th>\n",
              "      <th>Id</th>\n",
              "      <th>ProductId</th>\n",
              "      <th>UserId</th>\n",
              "      <th>ProfileName</th>\n",
              "      <th>HelpfulnessNumerator</th>\n",
              "      <th>HelpfulnessDenominator</th>\n",
              "      <th>Score</th>\n",
              "      <th>Time</th>\n",
              "      <th>Summary</th>\n",
              "      <th>Text</th>\n",
              "    </tr>\n",
              "  </thead>\n",
              "  <tbody>\n",
              "    <tr>\n",
              "      <th>0</th>\n",
              "      <td>1</td>\n",
              "      <td>B001E4KFG0</td>\n",
              "      <td>A3SGXH7AUHU8GW</td>\n",
              "      <td>delmartian</td>\n",
              "      <td>1</td>\n",
              "      <td>1</td>\n",
              "      <td>5</td>\n",
              "      <td>1303862400</td>\n",
              "      <td>Good Quality Dog Food</td>\n",
              "      <td>I have bought several of the Vitality canned d...</td>\n",
              "    </tr>\n",
              "    <tr>\n",
              "      <th>1</th>\n",
              "      <td>2</td>\n",
              "      <td>B00813GRG4</td>\n",
              "      <td>A1D87F6ZCVE5NK</td>\n",
              "      <td>dll pa</td>\n",
              "      <td>0</td>\n",
              "      <td>0</td>\n",
              "      <td>1</td>\n",
              "      <td>1346976000</td>\n",
              "      <td>Not as Advertised</td>\n",
              "      <td>Product arrived labeled as Jumbo Salted Peanut...</td>\n",
              "    </tr>\n",
              "    <tr>\n",
              "      <th>2</th>\n",
              "      <td>3</td>\n",
              "      <td>B000LQOCH0</td>\n",
              "      <td>ABXLMWJIXXAIN</td>\n",
              "      <td>Natalia Corres \"Natalia Corres\"</td>\n",
              "      <td>1</td>\n",
              "      <td>1</td>\n",
              "      <td>4</td>\n",
              "      <td>1219017600</td>\n",
              "      <td>\"Delight\" says it all</td>\n",
              "      <td>This is a confection that has been around a fe...</td>\n",
              "    </tr>\n",
              "    <tr>\n",
              "      <th>3</th>\n",
              "      <td>4</td>\n",
              "      <td>B000UA0QIQ</td>\n",
              "      <td>A395BORC6FGVXV</td>\n",
              "      <td>Karl</td>\n",
              "      <td>3</td>\n",
              "      <td>3</td>\n",
              "      <td>2</td>\n",
              "      <td>1307923200</td>\n",
              "      <td>Cough Medicine</td>\n",
              "      <td>If you are looking for the secret ingredient i...</td>\n",
              "    </tr>\n",
              "    <tr>\n",
              "      <th>4</th>\n",
              "      <td>5</td>\n",
              "      <td>B006K2ZZ7K</td>\n",
              "      <td>A1UQRSCLF8GW1T</td>\n",
              "      <td>Michael D. Bigham \"M. Wassir\"</td>\n",
              "      <td>0</td>\n",
              "      <td>0</td>\n",
              "      <td>5</td>\n",
              "      <td>1350777600</td>\n",
              "      <td>Great taffy</td>\n",
              "      <td>Great taffy at a great price.  There was a wid...</td>\n",
              "    </tr>\n",
              "  </tbody>\n",
              "</table>\n",
              "</div>"
            ],
            "text/plain": [
              "   Id  ...                                               Text\n",
              "0   1  ...  I have bought several of the Vitality canned d...\n",
              "1   2  ...  Product arrived labeled as Jumbo Salted Peanut...\n",
              "2   3  ...  This is a confection that has been around a fe...\n",
              "3   4  ...  If you are looking for the secret ingredient i...\n",
              "4   5  ...  Great taffy at a great price.  There was a wid...\n",
              "\n",
              "[5 rows x 10 columns]"
            ]
          },
          "metadata": {
            "tags": []
          },
          "execution_count": 1
        }
      ]
    },
    {
      "cell_type": "code",
      "metadata": {
        "id": "zXTFdQi5wYj9"
      },
      "source": [
        "df_text = df.sample(n = 3000)"
      ],
      "execution_count": 7,
      "outputs": []
    },
    {
      "cell_type": "code",
      "metadata": {
        "colab": {
          "base_uri": "https://localhost:8080/",
          "height": 570
        },
        "id": "A-EHommkvyUm",
        "outputId": "16a3ba15-9759-4bbe-f67a-d67b126013bb"
      },
      "source": [
        "df_text.head()"
      ],
      "execution_count": 8,
      "outputs": [
        {
          "output_type": "execute_result",
          "data": {
            "text/html": [
              "<div>\n",
              "<style scoped>\n",
              "    .dataframe tbody tr th:only-of-type {\n",
              "        vertical-align: middle;\n",
              "    }\n",
              "\n",
              "    .dataframe tbody tr th {\n",
              "        vertical-align: top;\n",
              "    }\n",
              "\n",
              "    .dataframe thead th {\n",
              "        text-align: right;\n",
              "    }\n",
              "</style>\n",
              "<table border=\"1\" class=\"dataframe\">\n",
              "  <thead>\n",
              "    <tr style=\"text-align: right;\">\n",
              "      <th></th>\n",
              "      <th>Id</th>\n",
              "      <th>ProductId</th>\n",
              "      <th>UserId</th>\n",
              "      <th>ProfileName</th>\n",
              "      <th>HelpfulnessNumerator</th>\n",
              "      <th>HelpfulnessDenominator</th>\n",
              "      <th>Score</th>\n",
              "      <th>Time</th>\n",
              "      <th>Summary</th>\n",
              "      <th>Text</th>\n",
              "    </tr>\n",
              "  </thead>\n",
              "  <tbody>\n",
              "    <tr>\n",
              "      <th>310125</th>\n",
              "      <td>310126</td>\n",
              "      <td>B008EM51FA</td>\n",
              "      <td>A39U8Z3OTYPHFC</td>\n",
              "      <td>Linda Singleton</td>\n",
              "      <td>0</td>\n",
              "      <td>0</td>\n",
              "      <td>5</td>\n",
              "      <td>1305504000</td>\n",
              "      <td>SOOTHING PLEASURE!!</td>\n",
              "      <td>THERE SHOULD BE 10 STARS FOR THIS PRODUCT!  I ...</td>\n",
              "    </tr>\n",
              "    <tr>\n",
              "      <th>419897</th>\n",
              "      <td>419898</td>\n",
              "      <td>B005G2FC32</td>\n",
              "      <td>A310B8OFSNA5K5</td>\n",
              "      <td>Dudley Lamburt</td>\n",
              "      <td>0</td>\n",
              "      <td>0</td>\n",
              "      <td>5</td>\n",
              "      <td>1347580800</td>\n",
              "      <td>Good Product, good price</td>\n",
              "      <td>My kids love these. They like that there is a ...</td>\n",
              "    </tr>\n",
              "    <tr>\n",
              "      <th>314609</th>\n",
              "      <td>314610</td>\n",
              "      <td>B000V1JVC6</td>\n",
              "      <td>A36FEPUTDN12KA</td>\n",
              "      <td>a cute bear \"TNM\"</td>\n",
              "      <td>6</td>\n",
              "      <td>8</td>\n",
              "      <td>4</td>\n",
              "      <td>1268697600</td>\n",
              "      <td>delicious but high in sodium</td>\n",
              "      <td>i have ordered it 5 times and will order it ag...</td>\n",
              "    </tr>\n",
              "    <tr>\n",
              "      <th>402531</th>\n",
              "      <td>402532</td>\n",
              "      <td>B000EML7DS</td>\n",
              "      <td>A1ZKBBOK1MOSOA</td>\n",
              "      <td>Linda R. Stanley</td>\n",
              "      <td>3</td>\n",
              "      <td>3</td>\n",
              "      <td>4</td>\n",
              "      <td>1260835200</td>\n",
              "      <td>a nice snack for low-carb</td>\n",
              "      <td>This makes a good snack for us low-carb folks....</td>\n",
              "    </tr>\n",
              "    <tr>\n",
              "      <th>87285</th>\n",
              "      <td>87286</td>\n",
              "      <td>B001EO616S</td>\n",
              "      <td>A1EWOJUUL7XRIX</td>\n",
              "      <td>Constant Reader</td>\n",
              "      <td>2</td>\n",
              "      <td>7</td>\n",
              "      <td>2</td>\n",
              "      <td>1312243200</td>\n",
              "      <td>Would not buy again</td>\n",
              "      <td>I thought the honey was much thinner than any ...</td>\n",
              "    </tr>\n",
              "  </tbody>\n",
              "</table>\n",
              "</div>"
            ],
            "text/plain": [
              "            Id  ...                                               Text\n",
              "310125  310126  ...  THERE SHOULD BE 10 STARS FOR THIS PRODUCT!  I ...\n",
              "419897  419898  ...  My kids love these. They like that there is a ...\n",
              "314609  314610  ...  i have ordered it 5 times and will order it ag...\n",
              "402531  402532  ...  This makes a good snack for us low-carb folks....\n",
              "87285    87286  ...  I thought the honey was much thinner than any ...\n",
              "\n",
              "[5 rows x 10 columns]"
            ]
          },
          "metadata": {
            "tags": []
          },
          "execution_count": 8
        }
      ]
    },
    {
      "cell_type": "markdown",
      "metadata": {
        "id": "sCI-ViiEx2DU"
      },
      "source": [
        "###Text Preprocessing"
      ]
    },
    {
      "cell_type": "code",
      "metadata": {
        "colab": {
          "base_uri": "https://localhost:8080/"
        },
        "id": "5DwcyvYFyBtx",
        "outputId": "46afbd6f-fc23-4820-fdd6-20e0995dc18f"
      },
      "source": [
        "import nltk\n",
        "nltk.download('stopwords')"
      ],
      "execution_count": 12,
      "outputs": [
        {
          "output_type": "stream",
          "text": [
            "[nltk_data] Downloading package stopwords to /root/nltk_data...\n",
            "[nltk_data]   Unzipping corpora/stopwords.zip.\n"
          ],
          "name": "stdout"
        },
        {
          "output_type": "execute_result",
          "data": {
            "text/plain": [
              "True"
            ]
          },
          "metadata": {
            "tags": []
          },
          "execution_count": 12
        }
      ]
    },
    {
      "cell_type": "code",
      "metadata": {
        "colab": {
          "base_uri": "https://localhost:8080/"
        },
        "id": "MjrG1aB4x3Zq",
        "outputId": "4d4405f5-27d2-449f-a92c-2ab61bd53b01"
      },
      "source": [
        "\n",
        "import nltk\n",
        "import re\n",
        "import numpy as np\n",
        "\n",
        "stop_words = nltk.corpus.stopwords.words('english')\n",
        "\n",
        "def normalize_document(doc):\n",
        "    \n",
        "    doc = re.sub(r'[^a-zA-Z0-9\\s]', '', doc, re.I|re.A)\n",
        "    doc = doc.lower()\n",
        "    doc = doc.translate(str.maketrans('', '', string.punctuation))\n",
        "    doc = doc.strip()\n",
        "    \n",
        "    tokens = nltk.word_tokenize(doc)\n",
        "    \n",
        "    filtered_tokens = [token for token in tokens if token not in stop_words]\n",
        "    \n",
        "    doc = ' '.join(filtered_tokens)\n",
        "    return doc\n",
        "\n",
        "normalize_corpus = np.vectorize(normalize_document)\n",
        "\n",
        "norm_corpus = normalize_corpus(list(df_text['Summary']))\n",
        "len(norm_corpus)"
      ],
      "execution_count": 13,
      "outputs": [
        {
          "output_type": "execute_result",
          "data": {
            "text/plain": [
              "3000"
            ]
          },
          "metadata": {
            "tags": []
          },
          "execution_count": 13
        }
      ]
    },
    {
      "cell_type": "markdown",
      "metadata": {
        "id": "dF6ciMqGyP8P"
      },
      "source": [
        "### Extract TF-IDF Features"
      ]
    },
    {
      "cell_type": "code",
      "metadata": {
        "colab": {
          "base_uri": "https://localhost:8080/"
        },
        "id": "aeVLY5YyyNd8",
        "outputId": "aef7fc4d-f5ee-4614-f7fa-9631cf501680"
      },
      "source": [
        "from sklearn.feature_extraction.text import CountVectorizer\n",
        "\n",
        "stop_words = stop_words\n",
        "cv = CountVectorizer(ngram_range=(1, 2), min_df=10, max_df=0.8, stop_words=stop_words)\n",
        "cv_matrix = cv.fit_transform(norm_corpus)\n",
        "cv_matrix.shape"
      ],
      "execution_count": 14,
      "outputs": [
        {
          "output_type": "execute_result",
          "data": {
            "text/plain": [
              "(3000, 157)"
            ]
          },
          "metadata": {
            "tags": []
          },
          "execution_count": 14
        }
      ]
    },
    {
      "cell_type": "markdown",
      "metadata": {
        "id": "un9pgr15yXN4"
      },
      "source": [
        "###Cluster Food Review using K-Means"
      ]
    },
    {
      "cell_type": "code",
      "metadata": {
        "colab": {
          "base_uri": "https://localhost:8080/"
        },
        "id": "W5bxuCU2x3th",
        "outputId": "c51127b0-669b-4fb4-9577-45d8a7ec4ec9"
      },
      "source": [
        "from sklearn.cluster import KMeans\n",
        "\n",
        "NUM_CLUSTERS = 6\n",
        "km = KMeans(n_clusters=NUM_CLUSTERS, max_iter=10000, n_init=50, random_state=42).fit(cv_matrix)\n",
        "km"
      ],
      "execution_count": 15,
      "outputs": [
        {
          "output_type": "execute_result",
          "data": {
            "text/plain": [
              "KMeans(algorithm='auto', copy_x=True, init='k-means++', max_iter=10000,\n",
              "       n_clusters=6, n_init=50, n_jobs=None, precompute_distances='auto',\n",
              "       random_state=42, tol=0.0001, verbose=0)"
            ]
          },
          "metadata": {
            "tags": []
          },
          "execution_count": 15
        }
      ]
    },
    {
      "cell_type": "code",
      "metadata": {
        "colab": {
          "base_uri": "https://localhost:8080/"
        },
        "id": "KaqrOKPIya8W",
        "outputId": "87bcd275-c54e-43b9-9ee6-bee300821230"
      },
      "source": [
        "from collections import Counter\n",
        "\n",
        "Counter(km.labels_)"
      ],
      "execution_count": 16,
      "outputs": [
        {
          "output_type": "execute_result",
          "data": {
            "text/plain": [
              "Counter({0: 192, 1: 341, 2: 2003, 3: 242, 4: 134, 5: 88})"
            ]
          },
          "metadata": {
            "tags": []
          },
          "execution_count": 16
        }
      ]
    },
    {
      "cell_type": "code",
      "metadata": {
        "id": "kK4Qz8xjydJZ"
      },
      "source": [
        "df_text['kmeans_cluster'] = km.labels_"
      ],
      "execution_count": 17,
      "outputs": []
    },
    {
      "cell_type": "code",
      "metadata": {
        "id": "_9tJosNGyet3"
      },
      "source": [
        "Food_Review_clusters = (df_text[['Summary', 'kmeans_cluster', 'Score']]\n",
        "                  .sort_values(by=['kmeans_cluster', 'Score'], \n",
        "                               ascending=False)\n",
        "                  .groupby('kmeans_cluster').head(20))\n",
        "Food_Review_clusters = Food_Review_clusters.copy(deep=True)"
      ],
      "execution_count": 18,
      "outputs": []
    },
    {
      "cell_type": "code",
      "metadata": {
        "colab": {
          "base_uri": "https://localhost:8080/"
        },
        "id": "nyTkBldMyr8F",
        "outputId": "aadd7c0a-9a5b-4faa-d578-8cabab7dfc6f"
      },
      "source": [
        "feature_names = cv.get_feature_names()\n",
        "topn_features = 15\n",
        "ordered_centroids = km.cluster_centers_.argsort()[:, ::-1]\n",
        "\n",
        "for cluster_num in range(NUM_CLUSTERS):\n",
        "    key_features = [feature_names[index] \n",
        "                        for index in ordered_centroids[cluster_num, :topn_features]]\n",
        "    food_review = Food_Review_clusters[Food_Review_clusters['kmeans_cluster'] == cluster_num]['Summary'].values.tolist()\n",
        "    print('CLUSTER #'+str(cluster_num+1))\n",
        "    print('Key Features:', key_features)\n",
        "    print('Popular Review Summary:', food_review)\n",
        "    print('-'*80)"
      ],
      "execution_count": 19,
      "outputs": [
        {
          "output_type": "stream",
          "text": [
            "CLUSTER #1\n",
            "Key Features: ['best', 'ever', 'tea', 'coffee', 'ive', 'one', 'far', 'simply', 'dog', 'found', 'chocolate', 'flavor', 'tasting', 'chips', 'green']\n",
            "Popular Review Summary: ['Best dog treat - great for training', 'Best Dog Treat For Picky Dogs', 'best off-the-shelf salsa ever', 'The Best Bar on the Market Hands Down', 'The Best Hazelnut K-Cup!', 'Salsa Fresca is the best', 'Best ever', 'Salt & Pepper Popchips are the BEST!!!', 'Best deal on AMZ for bottle pumps', 'best chocolate ever', 'Best Hot Chocolate Flavor', 'Best Blue Diamond Almonds', 'This is Really Chocolate of the Best Type', 'The best flaver', 'The Best Funnel cake mix out there', 'One of the best hot chocolate mixes out there!', 'Best tasting pretzel snack', 'Best Cat Food', 'best syrup ever', 'THE BEST & MY FAV']\n",
            "--------------------------------------------------------------------------------\n",
            "CLUSTER #2\n",
            "Key Features: ['great', 'product', 'great product', 'coffee', 'taste', 'price', 'tea', 'great coffee', 'great taste', 'tasting', 'great tasting', 'flavor', 'great price', 'great tea', 'food']\n",
            "Popular Review Summary: ['Great product', 'Works great, stopped her midnight screaming', 'Great', 'Great treat', 'Great Tea!', 'Tastes Great!', 'What a great solution! Better dog food for a great price!', 'Great fondant!', 'Great TASTY source of soluble fiber', 'Always great', 'great plant larger than expected', 'Great Coffee', 'Great stuff', 'Great Product', 'Great tasting coffee', 'Great product!', 'Great Treat', 'Great Nutritional Drink Supplement', 'Great product and value', 'Great cracker snack']\n",
            "--------------------------------------------------------------------------------\n",
            "CLUSTER #3\n",
            "Key Features: ['like', 'coffee', 'tea', 'excellent', 'tasty', 'yummy', 'flavor', 'taste', 'product', 'favorite', 'dog', 'food', 'nice', 'better', 'loves']\n",
            "Popular Review Summary: ['SOOTHING PLEASURE!!', 'Ribena Fans!', \"Can't beat the price!\", 'V8', 'GOT WISECRACKERS?', \"Nature's Path granola cereal\", 'Healthy soda', 'Gluten Free Favorite Sandwich Bread Mix', 'Amazing Midnight Moon Goat Cheese', \"Must I Review Cheez-It's?\", 'Excellent!', 'excellent', 'Excellent product', 'Powerful!', 'THOUGH I EAT THE UNSALTED VARIETY - 120 MG. OF SALT IS A SMALL PRICE TO PAY FOR PALATABILITY', 'Excellent Store!', 'My new favorite coffee supplier', 'Excellent', 'Awesome', 'Toddler Favorites']\n",
            "--------------------------------------------------------------------------------\n",
            "CLUSTER #4\n",
            "Key Features: ['good', 'coffee', 'pretty', 'price', 'tea', 'product', 'pretty good', 'flavor', 'quality', 'tastes', 'value', 'good product', 'really', 'great', 'stuff']\n",
            "Popular Review Summary: ['Good Product, good price', 'salty  but good', 'Good for Pulled Pork', 'Very good jerky!', 'Butter Toffee almonds are sooo good, but hi-carb', 'good deal', 'Soooooo good!!!', 'Good flavor - beats Jeremiah Fogbuster', 'A really good product.', 'Pure Coconut Oil with nice flavor and good price', 'Butter Toffee almonds are sooo good, but hi-carb', 'very good', 'Excruciatingly good.', 'Full flavored and zesty-really good tea', 'A very good chamomile tea', \"can't believe it's so good and so low calorie!\", '\"Coffee As Good As It Gets\"', 'good quality', 'I use Tart Smart for good health', 'Good stuff']\n",
            "--------------------------------------------------------------------------------\n",
            "CLUSTER #5\n",
            "Key Features: ['love', 'dogs', 'dogs love', 'coffee', 'cats', 'stuff', 'great', 'dog', 'product', 'taste', 'organic', 'best', 'healthy', 'chips', 'flavor']\n",
            "Popular Review Summary: ['Love this stuff!!!', 'Never Knew How Much I LOVE Molasses!', 'Love it but...', 'Love them', \"Love this, need this, can't live without it!!!!\", 'Dogs Love it!!', 'I LOVE THIS!!', 'Love it', 'Love this cereal!', 'I LOVE my Marmite!', 'Love!', 'In love.', 'Husband and Teen Boy Love It', '2 boys under 10 love it', 'LOVE the \"PEACH\" Flavor...', 'If you love toffee, this is the best', 'love the creamy texture', 'Dirty sue...I love you!', 'Absolutely Love These', 'Love it!!!']\n",
            "--------------------------------------------------------------------------------\n",
            "CLUSTER #6\n",
            "Key Features: ['delicious', 'chocolate', 'flavor', 'cookie', 'snack', 'taste', 'convenient', 'like', 'treat', 'free', 'simply', 'price', 'coffee', 'salt', 'chips']\n",
            "Popular Review Summary: ['delicious', 'delicious and fun!', 'Delicious and good for you!', 'Delicious', 'Wonderfully Delicious!', 'Wow - Chewy, crunchy, delicious', 'The cookie from \"When Harry Met Sally\" is delicious treat', 'Delicious!!!!!', 'Delicious', 'Delicious!', 'Delicious!', 'Delicious, but take care.', 'So smooth and delicious', 'Delicious convenient snack', 'Delicious, just like Salt and Vinegar Chips!', 'Delicious!', 'Delicious with a punch!', 'Delicious!', 'Pure and delicious!', 'Delicious']\n",
            "--------------------------------------------------------------------------------\n"
          ],
          "name": "stdout"
        }
      ]
    },
    {
      "cell_type": "code",
      "metadata": {
        "colab": {
          "base_uri": "https://localhost:8080/"
        },
        "id": "TV_R0En4zhK8",
        "outputId": "4d1b4fa2-ce13-420d-e9c6-05d20dca8849"
      },
      "source": [
        "from sklearn.metrics.pairwise import cosine_similarity\n",
        "cosine_sim_features = cosine_similarity(cv_matrix)\n",
        "km = KMeans(n_clusters=NUM_CLUSTERS, max_iter=10000, n_init=50, random_state=42).fit(cosine_sim_features)\n",
        "Counter(km.labels_)"
      ],
      "execution_count": 20,
      "outputs": [
        {
          "output_type": "execute_result",
          "data": {
            "text/plain": [
              "Counter({0: 358, 1: 233, 2: 2003, 3: 86, 4: 191, 5: 129})"
            ]
          },
          "metadata": {
            "tags": []
          },
          "execution_count": 20
        }
      ]
    },
    {
      "cell_type": "code",
      "metadata": {
        "colab": {
          "base_uri": "https://localhost:8080/"
        },
        "id": "mPasUzm4z6jz",
        "outputId": "271791ec-44cf-4f38-ddbf-9c0476179a29"
      },
      "source": [
        "df_text['kmeans_cluster'] = km.labels_\n",
        "\n",
        "Food_Review_clusters = (df_text[['Summary', 'kmeans_cluster', 'Score']]\n",
        "                  .sort_values(by=['kmeans_cluster', 'Score'], \n",
        "                               ascending=False)\n",
        "                  .groupby('kmeans_cluster').head(20))\n",
        "Food_Review_clusters = Food_Review_clusters.copy(deep=True)\n",
        "\n",
        "\n",
        "for cluster_num in range(NUM_CLUSTERS):\n",
        "    key_features = [feature_names[index] \n",
        "                        for index in ordered_centroids[cluster_num, :topn_features]]\n",
        "    food_review = Food_Review_clusters[Food_Review_clusters['kmeans_cluster'] == cluster_num]['Summary'].values.tolist()\n",
        "    print('CLUSTER #'+str(cluster_num+1))\n",
        "    print('Key Features:', key_features)\n",
        "    print('Popular Food Review:', food_review)\n",
        "    print('-'*80)"
      ],
      "execution_count": 25,
      "outputs": [
        {
          "output_type": "stream",
          "text": [
            "CLUSTER #1\n",
            "Key Features: ['best', 'ever', 'tea', 'coffee', 'ive', 'one', 'far', 'simply', 'dog', 'found', 'chocolate', 'flavor', 'tasting', 'chips', 'green']\n",
            "Popular Food Review: ['Best dog treat - great for training', 'Great product', 'Works great, stopped her midnight screaming', 'Great', 'Great treat', 'Great Tea!', 'Tastes Great!', 'What a great solution! Better dog food for a great price!', 'Great fondant!', 'Great TASTY source of soluble fiber', 'Always great', 'great plant larger than expected', 'Great Coffee', 'Great stuff', 'Great Product', 'Great tasting coffee', 'Great product!', 'Great Treat', 'Great Nutritional Drink Supplement', 'Great product and value']\n",
            "--------------------------------------------------------------------------------\n",
            "CLUSTER #2\n",
            "Key Features: ['great', 'product', 'great product', 'coffee', 'taste', 'price', 'tea', 'great coffee', 'great taste', 'tasting', 'great tasting', 'flavor', 'great price', 'great tea', 'food']\n",
            "Popular Food Review: ['Good Product, good price', 'salty  but good', 'Good for Pulled Pork', 'Very good jerky!', 'Butter Toffee almonds are sooo good, but hi-carb', 'good deal', 'Soooooo good!!!', 'Good flavor - beats Jeremiah Fogbuster', 'A really good product.', 'Delicious and good for you!', 'Pure Coconut Oil with nice flavor and good price', 'Butter Toffee almonds are sooo good, but hi-carb', 'very good', 'Excruciatingly good.', 'Full flavored and zesty-really good tea', 'A very good chamomile tea', \"can't believe it's so good and so low calorie!\", '\"Coffee As Good As It Gets\"', 'good quality', 'I use Tart Smart for good health']\n",
            "--------------------------------------------------------------------------------\n",
            "CLUSTER #3\n",
            "Key Features: ['like', 'coffee', 'tea', 'excellent', 'tasty', 'yummy', 'flavor', 'taste', 'product', 'favorite', 'dog', 'food', 'nice', 'better', 'loves']\n",
            "Popular Food Review: ['SOOTHING PLEASURE!!', 'Ribena Fans!', \"Can't beat the price!\", 'V8', 'GOT WISECRACKERS?', \"Nature's Path granola cereal\", 'Healthy soda', 'Gluten Free Favorite Sandwich Bread Mix', 'Amazing Midnight Moon Goat Cheese', \"Must I Review Cheez-It's?\", 'Excellent!', 'excellent', 'Excellent product', 'Powerful!', 'THOUGH I EAT THE UNSALTED VARIETY - 120 MG. OF SALT IS A SMALL PRICE TO PAY FOR PALATABILITY', 'Excellent Store!', 'My new favorite coffee supplier', 'Excellent', 'Awesome', 'Toddler Favorites']\n",
            "--------------------------------------------------------------------------------\n",
            "CLUSTER #4\n",
            "Key Features: ['good', 'coffee', 'pretty', 'price', 'tea', 'product', 'pretty good', 'flavor', 'quality', 'tastes', 'value', 'good product', 'really', 'great', 'stuff']\n",
            "Popular Food Review: ['delicious', 'delicious and fun!', 'Delicious', 'Wonderfully Delicious!', 'Wow - Chewy, crunchy, delicious', 'The cookie from \"When Harry Met Sally\" is delicious treat', 'Delicious!!!!!', 'Delicious', 'Delicious!', 'Delicious!', 'Delicious, but take care.', 'So smooth and delicious', 'Delicious convenient snack', 'Delicious, just like Salt and Vinegar Chips!', 'Delicious!', 'Delicious with a punch!', 'Delicious!', 'Pure and delicious!', 'Delicious', 'Delicious!']\n",
            "--------------------------------------------------------------------------------\n",
            "CLUSTER #5\n",
            "Key Features: ['love', 'dogs', 'dogs love', 'coffee', 'cats', 'stuff', 'great', 'dog', 'product', 'taste', 'organic', 'best', 'healthy', 'chips', 'flavor']\n",
            "Popular Food Review: ['Best Dog Treat For Picky Dogs', 'best off-the-shelf salsa ever', 'The Best Bar on the Market Hands Down', 'The Best Hazelnut K-Cup!', 'Salsa Fresca is the best', 'Best ever', 'Salt & Pepper Popchips are the BEST!!!', 'Best deal on AMZ for bottle pumps', 'best chocolate ever', 'Best Hot Chocolate Flavor', 'Best Blue Diamond Almonds', 'This is Really Chocolate of the Best Type', 'The best flaver', 'The Best Funnel cake mix out there', 'One of the best hot chocolate mixes out there!', 'Best tasting pretzel snack', 'Best Cat Food', 'best syrup ever', 'THE BEST & MY FAV', 'Best of the Best']\n",
            "--------------------------------------------------------------------------------\n",
            "CLUSTER #6\n",
            "Key Features: ['delicious', 'chocolate', 'flavor', 'cookie', 'snack', 'taste', 'convenient', 'like', 'treat', 'free', 'simply', 'price', 'coffee', 'salt', 'chips']\n",
            "Popular Food Review: ['Love this stuff!!!', 'Never Knew How Much I LOVE Molasses!', 'Love it but...', 'Love them', \"Love this, need this, can't live without it!!!!\", 'Dogs Love it!!', 'I LOVE THIS!!', 'Love it', 'Love this cereal!', 'I LOVE my Marmite!', 'Love!', 'In love.', 'Husband and Teen Boy Love It', '2 boys under 10 love it', 'LOVE the \"PEACH\" Flavor...', 'love the creamy texture', 'Dirty sue...I love you!', 'Absolutely Love These', 'Love it!!!', 'LOVE IT']\n",
            "--------------------------------------------------------------------------------\n"
          ],
          "name": "stdout"
        }
      ]
    },
    {
      "cell_type": "markdown",
      "metadata": {
        "id": "2S73Abf301Sz"
      },
      "source": [
        "###Hierarchical Clustering"
      ]
    },
    {
      "cell_type": "code",
      "metadata": {
        "id": "pdmx5-q80yNO"
      },
      "source": [
        "from scipy.cluster.hierarchy import ward, dendrogram\n",
        "from sklearn.metrics.pairwise import cosine_similarity"
      ],
      "execution_count": 22,
      "outputs": []
    },
    {
      "cell_type": "markdown",
      "metadata": {
        "id": "SOoFwMdD06mc"
      },
      "source": [
        "###Calculate Linkage Matrix using Cosine Similarity"
      ]
    },
    {
      "cell_type": "code",
      "metadata": {
        "id": "86Z1Lkw-033A"
      },
      "source": [
        "def ward_hierarchical_clustering(feature_matrix):\n",
        "    \n",
        "    cosine_distance = 1 - cosine_similarity(feature_matrix)\n",
        "    linkage_matrix = ward(cosine_distance)\n",
        "    return linkage_matrix"
      ],
      "execution_count": 23,
      "outputs": []
    },
    {
      "cell_type": "markdown",
      "metadata": {
        "id": "qYoQ8pD913UO"
      },
      "source": [
        "###Plot Hierarchical Structure as a Dendrogram"
      ]
    },
    {
      "cell_type": "code",
      "metadata": {
        "id": "B0XJAY7e10VH"
      },
      "source": [
        "def plot_hierarchical_clusters(linkage_matrix, food_data, p=100, figure_size=(8,12)):\n",
        "    # set size\n",
        "    fig, ax = plt.subplots(figsize=figure_size) \n",
        "    food_rev = food_data['Summary'].values.tolist()\n",
        "    # plot dendrogram\n",
        "    R = dendrogram(linkage_matrix, orientation=\"left\", labels=food_rev,\n",
        "                    truncate_mode='lastp', \n",
        "                    p=p,  \n",
        "                    no_plot=True)\n",
        "    temp = {R[\"leaves\"][ii]: food_rev[ii] for ii in range(len(R[\"leaves\"]))}\n",
        "    def llf(xx):\n",
        "        return \"{}\".format(temp[xx])\n",
        "    ax = dendrogram(\n",
        "            linkage_matrix,\n",
        "            truncate_mode='lastp',\n",
        "            orientation=\"left\",\n",
        "            p=p,  \n",
        "            leaf_label_func=llf, \n",
        "            leaf_font_size=10.,\n",
        "            )\n",
        "    plt.tick_params(axis= 'x',   \n",
        "                    which='both',  \n",
        "                    bottom='off',\n",
        "                    top='off',\n",
        "                    labelbottom='off')\n",
        "    plt.tight_layout()\n"
      ],
      "execution_count": 26,
      "outputs": []
    },
    {
      "cell_type": "code",
      "metadata": {
        "id": "4fYAAxqk17Qr"
      },
      "source": [
        "linkage_matrix = ward_hierarchical_clustering(cv_matrix)"
      ],
      "execution_count": 27,
      "outputs": []
    },
    {
      "cell_type": "code",
      "metadata": {
        "colab": {
          "base_uri": "https://localhost:8080/",
          "height": 1000
        },
        "id": "5cUTF2hk19NT",
        "outputId": "c6599f26-547e-4a92-be37-64e0ea99a23a"
      },
      "source": [
        "import matplotlib.pyplot as plt\n",
        "plot_hierarchical_clusters(linkage_matrix,\n",
        "                           p=50,  \n",
        "                           food_data=df_text,\n",
        "                           figure_size=(12, 14))"
      ],
      "execution_count": 29,
      "outputs": [
        {
          "output_type": "display_data",
          "data": {
            "image/png": "[encoded data removed]",
            "text/plain": [
              "<Figure size 864x1008 with 1 Axes>"
            ]
          },
          "metadata": {
            "tags": [],
            "needs_background": "light"
          }
        }
      ]
    },
    {
      "cell_type": "code",
      "metadata": {
        "id": "g4JfCb0-IWtZ"
      },
      "source": [
        ""
      ],
      "execution_count": null,
      "outputs": []
    }
  ]
}